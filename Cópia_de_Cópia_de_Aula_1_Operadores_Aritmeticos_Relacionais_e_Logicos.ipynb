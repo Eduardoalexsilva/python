{
  "nbformat": 4,
  "nbformat_minor": 0,
  "metadata": {
    "celltoolbar": "Slideshow",
    "kernelspec": {
      "display_name": "Python [conda env:root] *",
      "language": "python",
      "name": "conda-root-py"
    },
    "language_info": {
      "codemirror_mode": {
        "name": "ipython",
        "version": 3
      },
      "file_extension": ".py",
      "mimetype": "text/x-python",
      "name": "python",
      "nbconvert_exporter": "python",
      "pygments_lexer": "ipython3",
      "version": "3.9.2"
    },
    "rise": {
      "autolaunch": true,
      "enable_chalkboard": true,
      "progress": true,
      "scroll": true,
      "slideNumber": true
    },
    "colab": {
      "name": "Cópia de Cópia de Aula_1_Operadores_Aritmeticos_Relacionais_e_Logicos.ipynb",
      "provenance": [],
      "include_colab_link": true
    }
  },
  "cells": [
    {
      "cell_type": "markdown",
      "metadata": {
        "id": "view-in-github",
        "colab_type": "text"
      },
      "source": [
        "<a href=\"https://colab.research.google.com/github/Eduardoalexsilva/python/blob/main/C%C3%B3pia_de_C%C3%B3pia_de_Aula_1_Operadores_Aritmeticos_Relacionais_e_Logicos.ipynb\" target=\"_parent\"><img src=\"https://colab.research.google.com/assets/colab-badge.svg\" alt=\"Open In Colab\"/></a>"
      ]
    },
    {
      "cell_type": "markdown",
      "metadata": {
        "id": "wMl4RISFHle_"
      },
      "source": [
        "[![Binder](https://mybinder.org/badge_logo.svg)](https://mybinder.org/v2/gh/storopoli/ciencia-de-dados/master?filepath=notebooks%2FAula_1_Operadores_Aritmeticos_Relacionais_e_Logicos.ipynb)\n",
        "<br>\n",
        "[![Open In Colab](https://colab.research.google.com/assets/colab-badge.svg)](https://colab.research.google.com/github/storopoli/ciencia-de-dados/blob/master/notebooks/Aula_1_Operadores_Aritmeticos_Relacionais_e_Logicos.ipynb)"
      ]
    },
    {
      "cell_type": "markdown",
      "metadata": {
        "id": "HX4JaQ0JHlfG"
      },
      "source": [
        "# Operadores Aritméticos, Relacionais e Lógicos\n",
        "\n",
        "**Objetivos**: Apresentar variáveis, operadores aritméticos, relacionais e lógicos utilizados em Python."
      ]
    },
    {
      "cell_type": "markdown",
      "metadata": {
        "id": "xnZElQQ1HlfJ"
      },
      "source": [
        "Documentação Python 3: https://docs.python.org/3/library/index.html"
      ]
    },
    {
      "cell_type": "markdown",
      "metadata": {
        "id": "Bxwy5S3tHlfL"
      },
      "source": [
        "## Variáveis\n",
        "\n",
        "Uma variável reserva espaço de memória para armazenar um certo tipo de dado e\n",
        "relacionado a um nome para referenciar o seu conteúdo (nome da variável).\n",
        "\n",
        "3 tipos básicos:\n",
        "* Numérico\n",
        "* Texto (String)\n",
        "* Lógico (Booleano)"
      ]
    },
    {
      "cell_type": "markdown",
      "metadata": {
        "id": "ynil-k2XHlfQ"
      },
      "source": [
        "### Variáveis Numéricas\n",
        "\n",
        "Podem ser de dois tipos:\n",
        "* `int`: número inteiro\n",
        "* `float`: número real (ponto flutuante)"
      ]
    },
    {
      "cell_type": "code",
      "metadata": {
        "colab": {
          "base_uri": "https://localhost:8080/"
        },
        "id": "oNQV9KqkHlfR",
        "outputId": "c506d81a-c636-43a5-b3a8-4f7965872382"
      },
      "source": [
        "# isto é um comentário\n",
        "x = 10\n",
        "y = 8.9\n",
        "\n",
        "print(type(x))\n",
        "print(type(y))"
      ],
      "execution_count": null,
      "outputs": [
        {
          "output_type": "stream",
          "text": [
            "<class 'int'>\n",
            "<class 'float'>\n"
          ],
          "name": "stdout"
        }
      ]
    },
    {
      "cell_type": "code",
      "metadata": {
        "colab": {
          "base_uri": "https://localhost:8080/"
        },
        "id": "zudTyDszVhJr",
        "outputId": "85aa5c8e-05cb-451e-ad15-12abf834129d"
      },
      "source": [
        "a= flot(input\")\n",
        "b=\n",
        "c=\n",
        "\n"
      ],
      "execution_count": null,
      "outputs": [
        {
          "output_type": "stream",
          "text": [
            "Nome:eduardo\n",
            "Idade:39\n",
            "Cidade:são paulo\n",
            "eduardo Você tem 39 anos são paulo  onde você mora\n"
          ],
          "name": "stdout"
        }
      ]
    },
    {
      "cell_type": "markdown",
      "metadata": {
        "id": "V-QmGp0XHlfW"
      },
      "source": [
        "### Variáveis de Texto (`string`)\n",
        "\n",
        "Qualquer texto é uma `string`"
      ]
    },
    {
      "cell_type": "code",
      "metadata": {
        "id": "U8YL_IG3Hlfb",
        "outputId": "890803e8-18f3-4d17-e8b0-12a69cddb792"
      },
      "source": [
        "universidade = 'UNINOVE'\n",
        "logo = 'uni9 é 10'\n",
        "professor = 'José Eduardo Storopoli'\n",
        "\n",
        "print(type(logo))\n",
        "print('Número de caracteres do logo: ', len(logo)) # usando ,\n",
        "print('Bem-vindo à ' + universidade +\n",
        "      ', o seu professor é ' + professor) # usando +"
      ],
      "execution_count": null,
      "outputs": [
        {
          "output_type": "stream",
          "text": [
            "<class 'str'>\n",
            "Número de caracteres do logo:  9\n",
            "Bem-vindo à UNINOVE, o seu professor é José Eduardo Storopoli\n"
          ],
          "name": "stdout"
        }
      ]
    },
    {
      "cell_type": "markdown",
      "metadata": {
        "id": "aAdbFNKoHlfg"
      },
      "source": [
        "### Variáveis Lógicas (`bool`)\n",
        "\n",
        "* Verdadeiro = `True` = $1$\n",
        "* Falso = `False` = $0$"
      ]
    },
    {
      "cell_type": "code",
      "metadata": {
        "id": "CWHPIaN0Hlfk",
        "outputId": "7cd5814a-c17c-4a80-b9cc-de9d9606a9c0"
      },
      "source": [
        "mortalidade = True\n",
        "\n",
        "print(mortalidade)\n",
        "print(type(mortalidade))"
      ],
      "execution_count": null,
      "outputs": [
        {
          "output_type": "stream",
          "text": [
            "True\n",
            "<class 'bool'>\n"
          ],
          "name": "stdout"
        }
      ]
    },
    {
      "cell_type": "markdown",
      "metadata": {
        "id": "Ksl1zE7THlfl"
      },
      "source": [
        "## Leitura de Dados do Teclado\n",
        "\n",
        "A função utilizada para efetuar a leitura de dados a partir do teclado é a função `input()`."
      ]
    },
    {
      "cell_type": "code",
      "metadata": {
        "id": "0Mmxy06eHlfm",
        "outputId": "253dcc39-c1e7-4930-e6da-1afd2d7044a8"
      },
      "source": [
        "print(\"dados do aluno\")\n",
        "nome = input(\"informe seu nome: \")\n",
        "idade = input (\"informe sua idade: \")\n",
        "print (nome, \"você tem\", idade, \"anos!!\")"
      ],
      "execution_count": null,
      "outputs": [
        {
          "output_type": "stream",
          "text": [
            "dados do aluno\n"
          ],
          "name": "stdout"
        },
        {
          "output_type": "stream",
          "text": [
            "informe seu nome:  Jose\n",
            "informe sua idade:  33\n"
          ],
          "name": "stdin"
        },
        {
          "output_type": "stream",
          "text": [
            "Jose você tem 33 anos!!\n"
          ],
          "name": "stdout"
        }
      ]
    },
    {
      "cell_type": "markdown",
      "metadata": {
        "id": "lOoIjY-nHlfn"
      },
      "source": [
        "## Operadores Aritméticos\n",
        "\n",
        "* Soma `x + y`\n",
        "* Subtração `x - y`\n",
        "* Multiplicação `x * y`\n",
        "* Divisão `x / y`\n",
        "* Divisão desconsiderando a parte fracionária `x // y`\n",
        "* Resto de uma divisão `x % y`\n",
        "* Absoluto `abs(x)`\n",
        "* Converter para Inteiro `int(x)`\n",
        "* Converter para Real `float(x)`\n",
        "* Potência `x ** y`"
      ]
    },
    {
      "cell_type": "code",
      "metadata": {
        "id": "CClMa7IkHlfp",
        "outputId": "35225e11-5f81-45c3-b213-19f890876945"
      },
      "source": [
        "x = 10\n",
        "y = 3\n",
        "\n",
        "print('Soma: ', x + y)\n",
        "print('Subtração: ', x - y)\n",
        "print('Multiplicação: ', x * y)\n",
        "print('Divisão: ', x / y)\n",
        "print('Divisão desconsiderando a parte fracionária: ', x // y)\n",
        "print('Módulo - Resto de uma divisão: ', x % y)\n",
        "print('x elevado à y potência: ', x ** y)"
      ],
      "execution_count": null,
      "outputs": [
        {
          "output_type": "stream",
          "text": [
            "Soma:  13\n",
            "Subtração:  7\n",
            "Multiplicação:  30\n",
            "Divisão:  3.3333333333333335\n",
            "Divisão desconsiderando a parte fracionária:  3\n",
            "Módulo - Resto de uma divisão:  1\n",
            "x elevado à y potência:  1000\n"
          ],
          "name": "stdout"
        }
      ]
    },
    {
      "cell_type": "markdown",
      "metadata": {
        "id": "rYmuq4KvHlfq"
      },
      "source": [
        "### Arredondamento, Piso e Teto"
      ]
    },
    {
      "cell_type": "code",
      "metadata": {
        "id": "GSbAvwSyHlfr",
        "outputId": "1024e8bd-dce4-4d3f-dca7-19b63568cc4d"
      },
      "source": [
        "import math\n",
        "#import math as m \n",
        "#from math import floor, ceil\n",
        "\n",
        "print('round: ', round(3.33))\n",
        "print('floor: ', math.floor(3.33))\n",
        "print('ceil: ', math.ceil(3.33))"
      ],
      "execution_count": null,
      "outputs": [
        {
          "output_type": "stream",
          "text": [
            "round:  3\n",
            "floor:  3\n",
            "ceil:  4\n"
          ],
          "name": "stdout"
        }
      ]
    },
    {
      "cell_type": "markdown",
      "metadata": {
        "id": "L5oKIr8CHlfr"
      },
      "source": [
        "## Operadores Relacionais\n",
        "\n",
        "Uma condição é o estabelecimento de uma relação lógica entre dois elementos. Para definir uma relação lógica é necessário usar operadores relacionais. Uma relação lógica (comparação) retorna somente os valores verdadeiro ou falso."
      ]
    },
    {
      "cell_type": "markdown",
      "metadata": {
        "id": "fgJuw7QjHlfs"
      },
      "source": [
        "* Igual a: `x == y`\n",
        "* Maior que: `x > y`\n",
        "* Menor que: `x < y`\n",
        "* Maior ou igual a: `x >= y`\n",
        "* Menor ou igual a: `x <= y`\n",
        "* Diferente de: `x != y`"
      ]
    },
    {
      "cell_type": "code",
      "metadata": {
        "id": "H9uvVUrfHlfs",
        "outputId": "4301dd9c-27b8-4d83-f3a4-f18b2d300514"
      },
      "source": [
        "x = 3\n",
        "y = 4\n",
        "\n",
        "\n",
        "print('Igual a: ', x == y)\n",
        "print('Maior que: ', x > y)\n",
        "print('Menor que: ', x < y)\n",
        "print('Maior ou igual a: ', x >= y)\n",
        "print('Menor ou igual a: ', x <= y)\n",
        "print('Diferente de: ', x != y)"
      ],
      "execution_count": null,
      "outputs": [
        {
          "output_type": "stream",
          "text": [
            "Igual a:  False\n",
            "Maior que:  False\n",
            "Menor que:  True\n",
            "Maior ou igual a:  False\n",
            "Menor ou igual a:  True\n",
            "Diferente de:  True\n"
          ],
          "name": "stdout"
        }
      ]
    },
    {
      "cell_type": "markdown",
      "metadata": {
        "id": "qiuA264QHlfu"
      },
      "source": [
        "## Operadores Lógicos\n",
        "São utilizados para uma mesma tomada de decisão que necessite de mais de uma condição. Também são conhecidos como operadores booleanos. Operadores lógicos retornam somente os valores verdadeiro ou falso.\n",
        "\n",
        "| Operador Lógico | Função    | Prioridade |\n",
        "|-----------------|-----------|---------------------|\n",
        "| `NOT`           | Negação   | 1                   |\n",
        "| `AND`           | Conjunção | 2                   |\n",
        "| `OR`            | Disjunção | 3                   |"
      ]
    },
    {
      "cell_type": "code",
      "metadata": {
        "id": "0STyj8bnHlfv",
        "outputId": "9934dcc3-8e3d-4acf-9cb8-557d267e418b"
      },
      "source": [
        "x = 1\n",
        "y = 3\n",
        "z = 5\n",
        "w = 2\n",
        "\n",
        "print(z > w and w > y)  # False\n",
        "print(z > w or w > y)   # True\n",
        "print(not y + w == z)   # False"
      ],
      "execution_count": null,
      "outputs": [
        {
          "output_type": "stream",
          "text": [
            "False\n",
            "True\n",
            "False\n"
          ],
          "name": "stdout"
        }
      ]
    },
    {
      "cell_type": "markdown",
      "metadata": {
        "id": "s0yd6aA5Qere"
      },
      "source": [
        "# Vamos treinar\n",
        "\n",
        "1.   Implemente um programa que escreve na tela a frase \"Meu primeiro programa em Python!!!\".\n",
        "\n",
        "\n",
        "2.   Você foi contratado por uma escola pra fazer o sistema de boletim dos alunos. Como primeiro passo, escreva um programa que produza a seguinte saída (Não é necessário manter o alinhamento):\n",
        "\n",
        "| Aluno(a)        \t|  Nota \t|\n",
        "|-----------------\t|------:\t|\n",
        "| Ana Maria       \t|  9.00 \t|\n",
        "| José Carlos     \t|  7.20 \t|\n",
        "| Júlio Martins   \t|  8.00 \t|\n",
        "| Ubiratan Santos \t| 10.00 \t|\n",
        "\n",
        "3. Utilizando <strong>variáveis</strong>, faça um programa para realizar o seguinte cálculo:\n",
        "10 + 20 - 30 + (45 * 3) / 8 ** 2\n",
        "\n",
        "\n",
        "4. Faça um programa que **leia duas variáveis pelo teclado** e apresente a soma entre eles\n",
        "\n",
        "\n",
        "5. Resolva a equação do 2° Grau a seguir, realizando a entrada dos valores de (a, b e c) pelo teclado. A solução real da equação é dada por $ax^2 + 𝑏{𝑥} + 𝑐 = 0$, fórmula de Baskara.\n",
        "\n",
        "Exemplo:\n",
        "\n",
        "$a=1$, $b=3$ e $c=2$\n",
        "\n",
        "$ \\Delta = b^{2} - 4ac $, com $a \\neq 0$\n",
        "\n",
        "Se $ \\Delta < 0$ então mostrar \"não há solução real\"\n",
        "\n",
        "Senão, calcular e apresentar os resultados.\n",
        "\n",
        "$\n",
        "    x_1 = \\frac{−b−\\sqrt{\\Delta}}{2a}\n",
        "    \\\\\n",
        "    x_2 = \\frac{−b+\\sqrt{\\Delta}}{2a}\n",
        "$\n"
      ]
    },
    {
      "cell_type": "code",
      "metadata": {
        "colab": {
          "base_uri": "https://localhost:8080/"
        },
        "id": "RJ73M6T6KzH3",
        "outputId": "d3c5e5d1-cd0a-4ff7-9fa4-98406924c446"
      },
      "source": [
        "# Exercicio\n",
        "\n",
        "print(\"meu primeiro progama em python\")\n"
      ],
      "execution_count": null,
      "outputs": [
        {
          "output_type": "stream",
          "text": [
            "meu primeiro progama em python\n"
          ],
          "name": "stdout"
        }
      ]
    },
    {
      "cell_type": "code",
      "metadata": {
        "colab": {
          "base_uri": "https://localhost:8080/"
        },
        "id": "BJcQpSgxkjMS",
        "outputId": "a330ae76-79ed-447d-9faa-8015a516b79e"
      },
      "source": [
        "#Você foi contratado por uma escola pra fazer o sistema de boletim dos alunos. \n",
        "#Como primeiro passo, escreva um programa que produza a seguinte saída (Não é necessário manter o alinhamento):\n",
        "\n",
        "print(\"aluno \\t nota\")\n",
        "print(\"Ana Maria \\t 9.00 \")\n",
        "print(\"José Carlos \\t 7.20 \")\n",
        "print(\"Júlio Martins \\t 8.00\")\n",
        "print(\"Ubiratan Santos \\t 10.00\")"
      ],
      "execution_count": null,
      "outputs": [
        {
          "output_type": "stream",
          "text": [
            "aluno \t nota\n",
            "Ana Maria \t 9.00 \n",
            "José Carlos \t 7.20 \n",
            "Júlio Martins \t 8.00\n",
            "Ubiratan Santos \t 10.00\n"
          ],
          "name": "stdout"
        }
      ]
    },
    {
      "cell_type": "code",
      "metadata": {
        "colab": {
          "base_uri": "https://localhost:8080/"
        },
        "id": "9XFLSejYpDAz",
        "outputId": "aae16969-5637-4da1-9256-7508114f07c7"
      },
      "source": [
        "a = 10\n",
        "b = 20\n",
        "c = 30\n",
        "d = 45\n",
        "e = 3\n",
        "f = 8 \n",
        "g = 2\n",
        "\n",
        "soma = a + b - c + (d * e ) / f ** g\n",
        "\n",
        "print(round(soma, 2))"
      ],
      "execution_count": null,
      "outputs": [
        {
          "output_type": "stream",
          "text": [
            "2.11\n"
          ],
          "name": "stdout"
        }
      ]
    },
    {
      "cell_type": "code",
      "metadata": {
        "colab": {
          "base_uri": "https://localhost:8080/"
        },
        "id": "_pwQIXVBsulG",
        "outputId": "db7d2b0a-9fa0-49f8-9ad9-514b8baf8d48"
      },
      "source": [
        "#Faça um programa que leia duas variáveis pelo teclado e apresente a soma entre eles\n",
        "\n",
        "a = float (input(\"digite um numero:\"))\n",
        "b = float (input(\"digite outro numero:\"))\n",
        "\n",
        "soma = a + b\n",
        "\n",
        "print(soma)\n",
        "\n",
        "if soma > 20:\n",
        "  print(\"se soma for maior ou igual a 20\")\n",
        "else:\n",
        "   print(\"se a soma for menor que 20\")\n",
        "\n",
        "\n"
      ],
      "execution_count": null,
      "outputs": [
        {
          "output_type": "stream",
          "text": [
            "digite um numero:5\n",
            "digite outro numero:5\n",
            "10.0\n",
            "se a soma for menor que 20\n"
          ],
          "name": "stdout"
        }
      ]
    },
    {
      "cell_type": "code",
      "metadata": {
        "id": "d0jCO6Jt0yv4",
        "colab": {
          "base_uri": "https://localhost:8080/"
        },
        "outputId": "618dcd97-21d0-4711-ab2a-896e56ffd0d7"
      },
      "source": [
        "#Resolva a equação do 2° Grau a seguir, realizando a entrada dos valores de (a, b e c) pelo teclado.\n",
        "#A solução real da equação é dada por\n",
        "\n",
        "\n",
        "import math\n",
        "    \n",
        "a = float(input(\"digite o coeficiente de a: \"))\n",
        "b = float(input(\"digite o coeficiente de b: \"))\n",
        "c = float(input(\"digite o coeficiente de c: \"))\n",
        "if (not a == 0):\n",
        "  Delta = b**2 - 4 * a * c\n",
        "  RaizDelta = math.sqrt(Delta)\n",
        "  if Delta < 0:\n",
        "    print(\"\\nNao ha soluçao real\")\n",
        "  else:\n",
        "    x1 = (-b - RaizDelta) / (2*a)\n",
        "    x2 = (-b + RaizDelta) / (2*a)\n",
        "    print(\"x1 = \", x1 )\n",
        "    print(\"x2 = \", x2 )\n",
        "else: \n",
        "  print(\"\\n0 valor de 'a' deve ser diferente de zero\")\n",
        "\n",
        "print(\"fim de calculo\")  \n"
      ],
      "execution_count": 7,
      "outputs": [
        {
          "output_type": "stream",
          "name": "stdout",
          "text": [
            "digite o coeficiente de a: 2\n",
            "digite o coeficiente de b: 3\n",
            "digite o coeficiente de c: 0\n",
            "x1 =  -1.5\n",
            "x2 =  0.0\n",
            "fim de calculo\n"
          ]
        }
      ]
    },
    {
      "cell_type": "code",
      "metadata": {
        "colab": {
          "base_uri": "https://localhost:8080/"
        },
        "id": "dx1kzjHB49j0",
        "outputId": "96c45a79-10d6-4c99-a108-7057c954dc64"
      },
      "source": [
        "x = 8\n",
        "y = 15\n",
        "\n",
        "if (x > 3 or y % 2 == 0):\n",
        " print('AO MENOS UMA DAS CONDIÇOES FOI SATISFEITA')\n",
        "elif (x <= 3 and y != 0):\n",
        "  print('Nenhuma condição foi satisfeita')"
      ],
      "execution_count": null,
      "outputs": [
        {
          "output_type": "stream",
          "text": [
            "AO MENOS UMA DAS CONDIÇOES FOI SATISFEITA\n"
          ],
          "name": "stdout"
        }
      ]
    },
    {
      "cell_type": "markdown",
      "metadata": {
        "id": "D6n6aMgGnpEP"
      },
      "source": [
        ""
      ]
    },
    {
      "cell_type": "code",
      "metadata": {
        "colab": {
          "base_uri": "https://localhost:8080/"
        },
        "id": "z5lZPbzJ5EQV",
        "outputId": "8dc6a687-d1e3-488d-88cf-1264101ecd06"
      },
      "source": [
        "p = float (input('Digite sua PESO:'))\n",
        "a = float (input('Digite sua Altura:')) \n",
        "\n",
        "soma = p / a ** 2\n",
        "\n",
        "if soma < 18.5:\n",
        "  print('Abaixo do peso')\n",
        "elif soma >= 18.5 and soma <=24.9 :\n",
        "  print ('Peso normal')\n",
        "elif  soma >= 25 and soma <= 29.9:\n",
        "  print('Sobrepeso')\n",
        "elif soma >= 30 and soma <= 34.9:\n",
        "  print ('Obsidade grau 1')\n",
        "elif  soma >= 35 and soma <= 39.9:\n",
        "  print('Obsidade grau 2')\n",
        "elif  soma >= 40:\n",
        "  print('Obsidade grau 2')"
      ],
      "execution_count": null,
      "outputs": [
        {
          "output_type": "stream",
          "text": [
            "Digite sua PESO:122\n",
            "Digite sua Altura:177\n",
            "Abaixo do peso\n"
          ],
          "name": "stdout"
        }
      ]
    },
    {
      "cell_type": "markdown",
      "metadata": {
        "id": "KT-rD4Hi5D5J"
      },
      "source": [
        ""
      ]
    },
    {
      "cell_type": "code",
      "metadata": {
        "id": "YCLpPYlhKz5e"
      },
      "source": [
        ""
      ],
      "execution_count": null,
      "outputs": []
    }
  ]
}